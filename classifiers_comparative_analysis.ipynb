{
  "nbformat": 4,
  "nbformat_minor": 0,
  "metadata": {
    "colab": {
      "name": "BK_Projekt_2_Swędrowski, kod.ipynb",
      "provenance": [],
      "collapsed_sections": []
    },
    "kernelspec": {
      "name": "python3",
      "display_name": "Python 3"
    }
  },
  "cells": [
    {
      "cell_type": "code",
      "metadata": {
        "id": "TRhY9Rpu70_r",
        "colab": {
          "base_uri": "https://localhost:8080/"
        },
        "outputId": "1598730c-a426-43ef-9e91-e100d078ed0b"
      },
      "source": [
        "!pip install scikit-learn\n",
        "import json\n",
        "import string\n",
        "import pprint\n",
        "import glob\n",
        "import itertools\n",
        "import random\n",
        "import numpy as np\n",
        "import pandas as pd\n",
        "from sklearn.utils import shuffle\n",
        "from google.colab import drive\n",
        "drive.mount('/content/drive')"
      ],
      "execution_count": null,
      "outputs": [
        {
          "output_type": "stream",
          "text": [
            "Mounted at /content/drive\n"
          ],
          "name": "stdout"
        }
      ]
    },
    {
      "cell_type": "code",
      "metadata": {
        "id": "gwrXXEK67_-b"
      },
      "source": [
        "maps = glob.glob(\"drive/MyDrive/IAC/*.json\")"
      ],
      "execution_count": null,
      "outputs": []
    },
    {
      "cell_type": "code",
      "metadata": {
        "id": "sJ3TXOTl8bDb"
      },
      "source": [
        "with open(maps[0]) as f:\n",
        "  data = json.loads(f.read())"
      ],
      "execution_count": null,
      "outputs": []
    },
    {
      "cell_type": "code",
      "metadata": {
        "id": "HwaY0cwW90wQ"
      },
      "source": [
        "'''\n",
        "    conclusionPremiseDict Create dictionary of pairs with an identifier with the following form: \n",
        "    {id: {\"conclusion\": <SINGLE_CONCLUSION>, \"premises\":[<LIST_OF_PREMISES>]}}\n",
        "'''\n",
        "def conclusionPremiseDict(premises, conclusions):\n",
        "    pairs = {}\n",
        "    for i, x in enumerate(conclusions):\n",
        "        pairs[i] = {'conclusion':x, 'premises':[]}\n",
        "        id_to = x['fromID']\n",
        "        for p in premises:\n",
        "            if p['toID'] == id_to:\n",
        "                pairs[i]['premises'].append(p)\n",
        "                \n",
        "    return pairs\n",
        "\n",
        "\n",
        "'''\n",
        "    aduPairs create list of ADU pairs containing connected conclusion and premise [[conclusion, premise]] \n",
        "'''\n",
        "def aduPairs(edgePairs, nodesById):\n",
        "    aduPair = []\n",
        "    for pair in edgePairs.values():\n",
        "        for p in pair['premises']:\n",
        "          aduPair.append([nodesById[pair['conclusion']['toID']]['text'], nodesById[p['fromID']]['text']])\n",
        "    return(aduPair)\n",
        "\n",
        "\n",
        "'''\n",
        "    pairs creates conclusion - premise pairs for one map\n",
        "'''\n",
        "def pairs(map):\n",
        "    with open(map) as f:\n",
        "        data = json.loads(f.read())\n",
        "    #Creating nodesById dictionary which has nodeID as key and whole node as value for more efficient data extraction.\n",
        "    nodesById = {}\n",
        "    for _, node in enumerate(data['nodes']):\n",
        "        nodesById[node['nodeID']] = node\n",
        "    #Premises are nodes that have ingoing edges that are type 'RA' and outgoing edges that are type 'I'.\n",
        "    premises = [x for x in data['edges'] if nodesById[x['fromID']]['type'] == 'I' and nodesById[x['toID']]['type'] == 'RA' ]\n",
        "\n",
        "    #Conclusions are nodes that have ingoing edges that are type 'I' and outgoing edges that are type 'RA'.\n",
        "    conclusions = [x for x in data['edges'] if nodesById[x['toID']]['type'] == 'I' and nodesById[x['fromID']]['type'] == 'RA' ]\n",
        "    edgePairs = conclusionPremiseDict(premises, conclusions)\n",
        "    adus = aduPairs(edgePairs, nodesById)\n",
        "    return adus, conclusions, premises, nodesById\n",
        "\n",
        "\n",
        "'''\n",
        "    comb makes combination of conclusions and premises lists and returns list of pairs that are not conclusion-premise pairs \n",
        "'''\n",
        "def comb(conclusions, premises, l, nodesById):\n",
        "    combList = [(x,y) for x in conclusions for y in premises] \n",
        "    smallCombList = []\n",
        "    for _ in range(l):\n",
        "        p = random.choice(combList)\n",
        "        smallCombList.append([nodesById[p[0]['toID']]['text'], nodesById[p[1]['fromID']]['text']])\n",
        "    return smallCombList"
      ],
      "execution_count": 3,
      "outputs": []
    },
    {
      "cell_type": "code",
      "metadata": {
        "id": "Z9RsmKclCDs9"
      },
      "source": [
        "'''\n",
        "    truePairs is list of all conclusion-premise pairs; falsePairs is list od conclusion-premise non pairs\n",
        "'''\n",
        "truePairs = []\n",
        "conclusions = []\n",
        "premises = []\n",
        "nodesById = {}\n",
        "\n",
        "for m in maps:\n",
        "    adus, c, p, n = pairs(m)\n",
        "    truePairs.extend(adus)\n",
        "    conclusions.extend(c)\n",
        "    premises.extend(p)\n",
        "    nodesById = {**nodesById, **n}\n",
        "\n",
        "falsePairs = comb(conclusions, premises, len(truePairs), nodesById)"
      ],
      "execution_count": null,
      "outputs": []
    },
    {
      "cell_type": "code",
      "metadata": {
        "id": "QQeqidHnCFOd"
      },
      "source": [
        "!pip install tensorflow_text\n",
        "!pip install simpleneighbors"
      ],
      "execution_count": null,
      "outputs": []
    },
    {
      "cell_type": "code",
      "metadata": {
        "id": "84sVEqBvCGbq"
      },
      "source": [
        "import json\n",
        "import os\n",
        "import bokeh\n",
        "import bokeh.models\n",
        "import bokeh.plotting\n",
        "import numpy as np\n",
        "import os\n",
        "import pandas as pd\n",
        "import tensorflow.compat.v2 as tf\n",
        "import tensorflow_hub as hub\n",
        "from tensorflow_text import SentencepieceTokenizer\n",
        "import sklearn.metrics.pairwise\n",
        "\n",
        "from simpleneighbors import SimpleNeighbors\n",
        "from tqdm import tqdm\n",
        "from tqdm import trange"
      ],
      "execution_count": null,
      "outputs": []
    },
    {
      "cell_type": "code",
      "metadata": {
        "id": "af8IEzE_JxwD"
      },
      "source": [
        "def get_similarity(embeddings_1, embeddings_2):\n",
        "  \"\"\"Calculate cosine simiarity between two vectors.\n",
        "     *[check similarity measure based on arccos]\n",
        "     \n",
        "     Args:\n",
        "         - embeddings1, embeddings2 - vectors with sentence|word embeddings\n",
        "         \n",
        "     Returns:\n",
        "         - sim, cosine - similarity measures\n",
        "  \"\"\"\n",
        "  cosine = sklearn.metrics.pairwise.cosine_similarity(embeddings_1, embeddings_2)\n",
        "  sim = 1 - np.arccos(cosine)/np.pi\n",
        "  return sim, cosine"
      ],
      "execution_count": null,
      "outputs": []
    },
    {
      "cell_type": "code",
      "metadata": {
        "id": "9RLlkX7BJ0IQ"
      },
      "source": [
        "def embed_text(text, model):\n",
        "  \"\"\"Embed text as an embedding via universal sentence encoder model.\n",
        "     Args:\n",
        "         - text - text to encode\n",
        "         - model - universal sentence encoder model \n",
        "\n",
        "    Returns:\n",
        "         - vector embedding of text\n",
        "  \"\"\"\n",
        "  return model(text)"
      ],
      "execution_count": null,
      "outputs": []
    },
    {
      "cell_type": "code",
      "metadata": {
        "id": "9tgabAZDJ1kR"
      },
      "source": [
        "# The 16-language multilingual module\n",
        "module_url = 'https://tfhub.dev/google/universal-sentence-encoder-multilingual-large/3' #@param ['https://tfhub.dev/google/universal-sentence-encoder-multilingual/3', 'https://tfhub.dev/google/universal-sentence-encoder-multilingual-large/3']\n",
        "model = hub.load(module_url)"
      ],
      "execution_count": null,
      "outputs": []
    },
    {
      "cell_type": "code",
      "metadata": {
        "id": "zq_Nx5_-J27g"
      },
      "source": [
        "def embed_pair(pair, model):\n",
        "  \"\"\"Embed conclusion and premises from one pair.\n",
        "  \n",
        "  Args:\n",
        "    - pair - dictionary of conclusion and premises\n",
        "    \n",
        "  Returns:\n",
        "    - embed_conclusion - embedding of conclusion\n",
        "    - embed_premises - embedding of premises\n",
        "  \"\"\"\n",
        "  embed_conclusion = embed_text(pair[0], model)\n",
        "  embed_premise = embed_text(pair[1],model)\n",
        "  return embed_conclusion, embed_premise"
      ],
      "execution_count": null,
      "outputs": []
    },
    {
      "cell_type": "code",
      "metadata": {
        "id": "DQunTwf7J4A6"
      },
      "source": [
        "embed_conclusion, embed_premises = embed_pair(truePairs[0], model)"
      ],
      "execution_count": null,
      "outputs": []
    },
    {
      "cell_type": "code",
      "metadata": {
        "id": "gg75Aw_LJ5LO"
      },
      "source": [
        "def getsimforpair(prem,conc):\n",
        "  \"\"\"Given premise and conclusion returns similarity measure\n",
        "\n",
        "  Args:\n",
        "      - prem - embeded representation of the premise\n",
        "      - conc - embeded representation of the conclusion\n",
        "  Returns: \n",
        "      - sim_pair - similarity measure\n",
        "  \"\"\"\n",
        "  sim_pair = get_similarity(prem,conc)\n",
        "  return sim_pair"
      ],
      "execution_count": null,
      "outputs": []
    },
    {
      "cell_type": "code",
      "metadata": {
        "id": "qbeYnUruJ6L2",
        "colab": {
          "base_uri": "https://localhost:8080/"
        },
        "outputId": "18d7ee0f-8163-471a-da70-78689c719892"
      },
      "source": [
        "getsimforpair(embed_conclusion, embed_premises)"
      ],
      "execution_count": null,
      "outputs": [
        {
          "output_type": "execute_result",
          "data": {
            "text/plain": [
              "(array([[0.5797051]], dtype=float32), array([[0.24779238]], dtype=float32))"
            ]
          },
          "metadata": {
            "tags": []
          },
          "execution_count": 15
        }
      ]
    },
    {
      "cell_type": "code",
      "metadata": {
        "id": "pMpnahe9J9In"
      },
      "source": [
        "def loopallpairs(pairlist):\n",
        "  \"\"\"Given list of pairs of premises and conclusions returns list of similarity measures for each pair in the corpus\n",
        "\n",
        "  Args:\n",
        "      - pairlist - list of pairs of premises and conclusions (raw text)\n",
        "  Returns: \n",
        "      - simlist - list of similarity measure for each pair (raw text)\n",
        "  \"\"\"\n",
        "  for pair in pairlist:\n",
        "    conc = embed_text(pair[0], model)\n",
        "    prem = embed_text(pair[1], model)\n",
        "    simforpair = getsimforpair(prem,conc)\n",
        "    simlist.append(simforpair)\n",
        "  pairssimlist = zip(pairlist,simlist)\n",
        "  return pairssimlist"
      ],
      "execution_count": null,
      "outputs": []
    },
    {
      "cell_type": "code",
      "metadata": {
        "id": "2YhysdmwJ-I6"
      },
      "source": [
        "def makesimlist(simlist,label,measure):\n",
        "  \"\"\"\n",
        "    Given list of list of similarity measure for each pairs makes list of similarity measurements plus labels\n",
        "  \n",
        "  Args:\n",
        "    - simlist - list of similarity measure for each pair\n",
        "    - label (0 false or 1 for true)\n",
        "    - measure: 0 or 1\n",
        "  \"\"\"\n",
        "  simtable = pd.DataFrame(simlist)\n",
        "  simlistsim = simtable[measure] \n",
        "  simlistsim_flattened = [val for sublist in simlistsim for val in sublist]\n",
        "  simtable = pd.DataFrame(simlistsim_flattened)\n",
        "  simtable[\"label\"] = label\n",
        "  return simtable"
      ],
      "execution_count": null,
      "outputs": []
    },
    {
      "cell_type": "code",
      "metadata": {
        "id": "4H0s-gxfJ_RH"
      },
      "source": [
        "def loopallpairs(pairlist):\n",
        "  \"\"\"Given list of pairs of premises and conclusions returns list of similarity measures for each pair in the corpus\n",
        "\n",
        "  Args:\n",
        "      - pairlist - list of pairs of premises and conclusions (raw text)\n",
        "  Returns: \n",
        "      - simlist - list of similarity measure for each pair (raw text)\n",
        "  \"\"\"\n",
        "  simlist = []\n",
        "  for pair in pairlist:\n",
        "    conc = embed_text(pair[0], model)\n",
        "    prem = embed_text(pair[1], model)\n",
        "    simforpair = getsimforpair(prem,conc)\n",
        "    simlist.append(simforpair)\n",
        "  return simlist"
      ],
      "execution_count": null,
      "outputs": []
    },
    {
      "cell_type": "code",
      "metadata": {
        "id": "Wy-iirTPKAYP"
      },
      "source": [
        "all_true_pairssimlist = loopallpairs(truePairs)"
      ],
      "execution_count": null,
      "outputs": []
    },
    {
      "cell_type": "code",
      "metadata": {
        "id": "bdpJh9VAKBHA"
      },
      "source": [
        "all_false_pairssimlist = loopallpairs(falsePairs)"
      ],
      "execution_count": null,
      "outputs": []
    },
    {
      "cell_type": "code",
      "metadata": {
        "id": "jHIJsvMaKB5D",
        "colab": {
          "base_uri": "https://localhost:8080/"
        },
        "outputId": "d2a22137-ba8d-4b57-b7e3-ca73525a4723"
      },
      "source": [
        "all_false_pairssimlist[0]"
      ],
      "execution_count": null,
      "outputs": [
        {
          "output_type": "execute_result",
          "data": {
            "text/plain": [
              "(array([[0.52479076]], dtype=float32), array([[0.07780383]], dtype=float32))"
            ]
          },
          "metadata": {
            "tags": []
          },
          "execution_count": 21
        }
      ]
    },
    {
      "cell_type": "code",
      "metadata": {
        "id": "axJqDooDWYfH",
        "colab": {
          "base_uri": "https://localhost:8080/",
          "height": 246
        },
        "outputId": "b994ff66-5e98-48d5-bdf1-05cd9201f1d2"
      },
      "source": [
        "all_true_pairssimlistSIMtable = makesimlist(all_true_pairssimlist,\"1\", 0)\n",
        "all_true_pairssimlistCOStable = makesimlist(all_true_pairssimlist,\"1\", 1)\n",
        "all_false_pairssimlistSIMtable = makesimlist(all_false_pairssimlist,\"0\", 0)\n",
        "all_false_pairssimlistCOStable = makesimlist(all_false_pairssimlist,\"0\", 1)\n",
        "\n",
        "database = []\n",
        "database = pd.concat([all_false_pairssimlistSIMtable, all_true_pairssimlistSIMtable], axis=0)\n",
        "from sklearn.utils import shuffle\n",
        "database = shuffle(database)\n",
        "\n",
        "\n",
        "'''\n",
        "    write data to .csv file\n",
        "'''\n",
        "myFile = open('BK PROJEKT 2 SWĘDROWSKI.csv', 'w')\n",
        "with myFile:    \n",
        "    myFields = ['similarity', 'feature']\n",
        "    writer = csv.DictWriter(myFile, fieldnames=myFields)    \n",
        "    writer.writeheader()\n",
        "    for i,j in zip(database[0], database['label']):\n",
        "        writer.writerow({'similarity' : i, 'feature': j})"
      ],
      "execution_count": 1,
      "outputs": [
        {
          "output_type": "error",
          "ename": "NameError",
          "evalue": "ignored",
          "traceback": [
            "\u001b[0;31m---------------------------------------------------------------------------\u001b[0m",
            "\u001b[0;31mNameError\u001b[0m                                 Traceback (most recent call last)",
            "\u001b[0;32m<ipython-input-1-c46e04621848>\u001b[0m in \u001b[0;36m<module>\u001b[0;34m()\u001b[0m\n\u001b[0;32m----> 1\u001b[0;31m \u001b[0mall_true_pairssimlistSIMtable\u001b[0m \u001b[0;34m=\u001b[0m \u001b[0mmakesimlist\u001b[0m\u001b[0;34m(\u001b[0m\u001b[0mall_true_pairssimlist\u001b[0m\u001b[0;34m,\u001b[0m\u001b[0;34m\"1\"\u001b[0m\u001b[0;34m,\u001b[0m\u001b[0;36m0\u001b[0m\u001b[0;34m)\u001b[0m\u001b[0;34m\u001b[0m\u001b[0;34m\u001b[0m\u001b[0m\n\u001b[0m\u001b[1;32m      2\u001b[0m \u001b[0;34m\u001b[0m\u001b[0m\n\u001b[1;32m      3\u001b[0m \u001b[0mall_true_pairssimlistCOStable\u001b[0m \u001b[0;34m=\u001b[0m \u001b[0mmakesimlist\u001b[0m\u001b[0;34m(\u001b[0m\u001b[0mall_true_pairssimlist\u001b[0m\u001b[0;34m,\u001b[0m\u001b[0;34m\"1\"\u001b[0m\u001b[0;34m,\u001b[0m\u001b[0;36m1\u001b[0m\u001b[0;34m)\u001b[0m\u001b[0;34m\u001b[0m\u001b[0;34m\u001b[0m\u001b[0m\n\u001b[1;32m      4\u001b[0m \u001b[0mall_false_pairssimlistSIMtable\u001b[0m \u001b[0;34m=\u001b[0m \u001b[0mmakesimlist\u001b[0m\u001b[0;34m(\u001b[0m\u001b[0mall_false_pairssimlist\u001b[0m\u001b[0;34m,\u001b[0m\u001b[0;34m\"0\"\u001b[0m\u001b[0;34m,\u001b[0m\u001b[0;36m0\u001b[0m\u001b[0;34m)\u001b[0m\u001b[0;34m\u001b[0m\u001b[0;34m\u001b[0m\u001b[0m\n\u001b[1;32m      5\u001b[0m \u001b[0;34m\u001b[0m\u001b[0m\n",
            "\u001b[0;31mNameError\u001b[0m: name 'makesimlist' is not defined"
          ]
        }
      ]
    },
    {
      "cell_type": "code",
      "metadata": {
        "id": "9Yw_cioKZKsN"
      },
      "source": [
        "from sklearn.model_selection import train_test_split\n",
        "\n",
        "train, test = train_test_split(database, test_size=0.2)"
      ],
      "execution_count": null,
      "outputs": []
    },
    {
      "cell_type": "code",
      "metadata": {
        "id": "15fkiUbia1B4",
        "colab": {
          "base_uri": "https://localhost:8080/",
          "height": 53
        },
        "outputId": "dea112e4-bd55-4565-811a-0ad13521ab18"
      },
      "source": [
        "import tensorflow as tf\n",
        "from tensorflow import keras\n",
        "from tensorflow.keras.layers import Activation, Dense\n",
        "from tensorflow.keras.optimizers import Adam\n",
        "from tensorflow.keras.metrics import categorical_crossentropy\n",
        "import csv\n",
        "import numpy as np\n",
        "from sklearn.metrics import confusion_matrix\n",
        "import itertools\n",
        "import matplotlib.pyplot as plt\n",
        "import matplotlib as mpl\n",
        "\n",
        "trainSamples = np.asarray(list(train[0]))\n",
        "trainLabels = list(train['label'])\n",
        "for i in range(len(trainLabels)):\n",
        "    trainLabels[i] = float(trainLabels[i])\n",
        "\n",
        "trainLabels = np.asarray(trainLabels)\n",
        "\n",
        "testSamples = np.asarray(list(test[0]))\n",
        "testLabels = list(test['label'])\n",
        "for i in range(len(testLabels)):\n",
        "    testLabels[i] = float(testLabels[i])\n",
        "testLabels = np.asarray(testLabels)\n",
        "\n",
        "bb = []\n",
        "for i in testLabels:\n",
        "    bb.append(type(i))\n",
        "dd = set(bb)\n",
        "print(dd)"
      ],
      "execution_count": null,
      "outputs": [
        {
          "output_type": "stream",
          "text": [
            "{<class 'numpy.float64'>}\n"
          ],
          "name": "stdout"
        },
        {
          "output_type": "execute_result",
          "data": {
            "application/vnd.google.colaboratory.intrinsic+json": {
              "type": "string"
            },
            "text/plain": [
              "\"\\nfor i in range(len(trainLabels)):\\n  #trainLabels[i] = np.array(float(trainLabels[i]))\\n  trainLabels[i] = np.asarray(trainLabels[i]).astype('float32')\\n  \""
            ]
          },
          "metadata": {
            "tags": []
          },
          "execution_count": 24
        }
      ]
    },
    {
      "cell_type": "code",
      "metadata": {
        "id": "wWJrY73RRsnI",
        "colab": {
          "base_uri": "https://localhost:8080/",
          "height": 246
        },
        "outputId": "d55dd536-b027-4085-a5df-87a234a17604"
      },
      "source": [
        "'''\n",
        "  make model\n",
        "'''\n",
        "model = tf.keras.Sequential([\n",
        "    Dense(units=64, input_shape=(1,), activation='relu'),\n",
        "    Dense(units=64, activation='relu'),\n",
        "    Dense(units=64, activation='relu'),\n",
        "    Dense(units=64, activation='relu'),\n",
        "    Dense(units=32, activation='relu'),\n",
        "    Dense(units=2, activation='sigmoid')\n",
        "])\n",
        "model.summary()\n",
        "\n",
        "\n",
        "'''\n",
        "  train model\n",
        "'''\n",
        "model.compile(optimizer=Adam(learning_rate=0.0001), loss='sparse_categorical_crossentropy', metrics=['accuracy'])\n",
        "hist = model.fit(x=trainSamples, y=trainLabels, validation_split = 0.03, batch_size=24, epochs=75, shuffle=True, verbose=1)\n",
        "\n",
        "\n",
        "'''\n",
        "  predictions\n",
        "'''\n",
        "predictions = model.predict(x=testSamples, batch_size=1, verbose=0)\n",
        "roundedPredictions = np.argmax(predictions, axis=-1)\n",
        "\n",
        "cm = confusion_matrix(y_true = testLabels, y_pred = roundedPredictions)\n",
        "\n",
        "def plot_confusion_matrix(cm, classes, normalize=False, title='Confusion Matrix,', cmap=mpl.cm.Greens):\n",
        "    plt.imshow(cm, interpolation='nearest', cmap=cmap)\n",
        "    plt.title(title)\n",
        "    plt.colorbar()\n",
        "    tick_marks = np.arange(len(classes))\n",
        "    plt.xticks(tick_marks, classes, rotation=45)\n",
        "    plt.yticks(tick_marks, classes)\n",
        "\n",
        "    if normalize:\n",
        "        cm = cm.astype('float') / cm.sum(axis=1)[:np.newaxis]\n",
        "        print('Normalized confusiom matrix')\n",
        "    else:\n",
        "        print('Confusion matrix without normalization')\n",
        "\n",
        "    thresh = cm.max() / 2.\n",
        "    for i, j in itertools.product(range(cm.shape[0]), range(cm.shape[1])):\n",
        "        plt.text(j, i, cm[i, j], \n",
        "                 horizontalalignment=\"center\",\n",
        "                 color=\"white\" if cm[i, j] > thresh else \"black\")\n",
        "\n",
        "    plt.tight_layout()\n",
        "    plt.ylabel('Prawdziwe')\n",
        "    plt.xlabel('Przewidywane')\n",
        "    plt.show()\n",
        "\n",
        "cm_plot_labels = ['nie para', 'para']\n",
        "plot_confusion_matrix(cm=cm, classes=cm_plot_labels, title=\"Macierz pomyłek\")\n",
        "\n",
        "print(len(trainSamples), len(trainLabels))\n",
        "model.evaluate(testSamples, testLabels, batch_size=2)"
      ],
      "execution_count": 2,
      "outputs": [
        {
          "output_type": "error",
          "ename": "NameError",
          "evalue": "ignored",
          "traceback": [
            "\u001b[0;31m---------------------------------------------------------------------------\u001b[0m",
            "\u001b[0;31mNameError\u001b[0m                                 Traceback (most recent call last)",
            "\u001b[0;32m<ipython-input-2-4d90ff6c3dcc>\u001b[0m in \u001b[0;36m<module>\u001b[0;34m()\u001b[0m\n\u001b[1;32m      2\u001b[0m   \u001b[0mmake\u001b[0m \u001b[0mmodel\u001b[0m\u001b[0;34m\u001b[0m\u001b[0;34m\u001b[0m\u001b[0m\n\u001b[1;32m      3\u001b[0m '''\n\u001b[0;32m----> 4\u001b[0;31m model = tf.keras.Sequential([\n\u001b[0m\u001b[1;32m      5\u001b[0m     \u001b[0mDense\u001b[0m\u001b[0;34m(\u001b[0m\u001b[0munits\u001b[0m\u001b[0;34m=\u001b[0m\u001b[0;36m64\u001b[0m\u001b[0;34m,\u001b[0m \u001b[0minput_shape\u001b[0m\u001b[0;34m=\u001b[0m\u001b[0;34m(\u001b[0m\u001b[0;36m1\u001b[0m\u001b[0;34m,\u001b[0m\u001b[0;34m)\u001b[0m\u001b[0;34m,\u001b[0m \u001b[0mactivation\u001b[0m\u001b[0;34m=\u001b[0m\u001b[0;34m'relu'\u001b[0m\u001b[0;34m)\u001b[0m\u001b[0;34m,\u001b[0m\u001b[0;34m\u001b[0m\u001b[0;34m\u001b[0m\u001b[0m\n\u001b[1;32m      6\u001b[0m     \u001b[0mDense\u001b[0m\u001b[0;34m(\u001b[0m\u001b[0munits\u001b[0m\u001b[0;34m=\u001b[0m\u001b[0;36m64\u001b[0m\u001b[0;34m,\u001b[0m \u001b[0mactivation\u001b[0m\u001b[0;34m=\u001b[0m\u001b[0;34m'relu'\u001b[0m\u001b[0;34m)\u001b[0m\u001b[0;34m,\u001b[0m\u001b[0;34m\u001b[0m\u001b[0;34m\u001b[0m\u001b[0m\n",
            "\u001b[0;31mNameError\u001b[0m: name 'tf' is not defined"
          ]
        }
      ]
    },
    {
      "cell_type": "code",
      "metadata": {
        "id": "SA9eNI1I8Kmq",
        "colab": {
          "base_uri": "https://localhost:8080/",
          "height": 294
        },
        "outputId": "3a2213e1-1554-4766-9478-83a05043d469"
      },
      "source": [
        "plt.plot(hist.history['accuracy'])\n",
        "plt.title('Dokładność modelu')\n",
        "plt.ylabel('Dokładność')\n",
        "plt.xlabel('Epoka')\n",
        "plt.show()"
      ],
      "execution_count": null,
      "outputs": [
        {
          "output_type": "display_data",
          "data": {
            "image/png": "[encoded data removed]",
            "text/plain": [
              "<Figure size 432x288 with 1 Axes>"
            ]
          },
          "metadata": {
            "tags": [],
            "needs_background": "light"
          }
        }
      ]
    },
    {
      "cell_type": "code",
      "metadata": {
        "id": "aQJt83tbbIoa"
      },
      "source": [
        "#all_true_pairssimlistSIMtable.plot.hist(by=all_true_pairssimlistSIMtable[0], bins=10)"
      ],
      "execution_count": null,
      "outputs": []
    },
    {
      "cell_type": "code",
      "metadata": {
        "id": "IoaxnFGZbJvf"
      },
      "source": [
        "#all_false_pairssimlistSIMtable.plot.hist(by=all_false_pairssimlistSIMtable[0], bins=10)"
      ],
      "execution_count": null,
      "outputs": []
    },
    {
      "cell_type": "code",
      "metadata": {
        "id": "kpKs8HnwbK8s"
      },
      "source": [
        "#all_true_pairssimlistCOStable.plot.hist(by=all_true_pairssimlistCOStable[0], bins=10)"
      ],
      "execution_count": null,
      "outputs": []
    },
    {
      "cell_type": "code",
      "metadata": {
        "id": "O5l0NXXrbMdv"
      },
      "source": [
        "#all_false_pairssimlistCOStable.plot.hist(by=all_false_pairssimlistCOStable[0], bins=10)"
      ],
      "execution_count": null,
      "outputs": []
    },
    {
      "cell_type": "code",
      "metadata": {
        "id": "dsLgjkrpbOY_",
        "colab": {
          "base_uri": "https://localhost:8080/",
          "height": 281
        },
        "outputId": "2f574309-24f7-476f-ee3d-fb5b942eedba"
      },
      "source": [
        "bins = np.linspace(0, 1, 100)\n",
        "plt.hist(all_true_pairssimlistSIMtable[0], bins, alpha=0.5, label='prawdziwe pary')\n",
        "plt.hist(all_false_pairssimlistSIMtable[0], bins, alpha=0.5, label='fałszywe pary')\n",
        "plt.legend(loc='upper right')\n",
        "plt.title(\"Podobieństwo SIM\") \n",
        "plt.show()"
      ],
      "execution_count": null,
      "outputs": [
        {
          "output_type": "display_data",
          "data": {
            "image/png": "[encoded data removed]",
            "text/plain": [
              "<Figure size 432x288 with 1 Axes>"
            ]
          },
          "metadata": {
            "tags": [],
            "needs_background": "light"
          }
        }
      ]
    },
    {
      "cell_type": "code",
      "metadata": {
        "id": "rDzPMiSt2D8b",
        "colab": {
          "base_uri": "https://localhost:8080/",
          "height": 281
        },
        "outputId": "efd8db57-add0-4658-a365-92bc660e9701"
      },
      "source": [
        "bins = np.linspace(0, 1, 100)\n",
        "plt.hist(all_true_pairssimlistCOStable[0], bins, alpha=0.5, label='prawdziwe pary')\n",
        "plt.hist(all_false_pairssimlistCOStable[0], bins, alpha=0.5, label='fałszywe pary')\n",
        "plt.legend(loc='upper right')\n",
        "plt.title(\"Podobieństwo COS\") \n",
        "plt.show()"
      ],
      "execution_count": null,
      "outputs": [
        {
          "output_type": "display_data",
          "data": {
            "image/png": "[encoded data removed]",
            "text/plain": [
              "<Figure size 432x288 with 1 Axes>"
            ]
          },
          "metadata": {
            "tags": [],
            "needs_background": "light"
          }
        }
      ]
    },
    {
      "cell_type": "code",
      "metadata": {
        "id": "gbqSMW9ztxvC"
      },
      "source": [
        "from sklearn import metrics\n",
        "\n",
        "trainSamples_np = trainSamples.reshape(-1, 1)\n",
        "testSamples_np = testSamples.reshape(-1, 1)"
      ],
      "execution_count": null,
      "outputs": []
    },
    {
      "cell_type": "code",
      "metadata": {
        "id": "TcMRkDFidf35",
        "colab": {
          "base_uri": "https://localhost:8080/",
          "height": 542
        },
        "outputId": "27348fc9-e485-4bf5-ad0a-26397b203b58"
      },
      "source": [
        "from sklearn.linear_model import LogisticRegression\n",
        "\n",
        "lr_model = LogisticRegression(solver='lbfgs')\n",
        "lr_model.fit(trainSamples_np, trainLabels)\n",
        "\n",
        "predictions = lr_model.predict(testSamples_np)\n",
        "metrics.confusion_matrix(testLabels, predictions)\n",
        "print(metrics.classification_report(testLabels,predictions))\n",
        "print(metrics.accuracy_score(testLabels,predictions))\n",
        "\n",
        "cm = confusion_matrix(y_true = testLabels, y_pred = predictions)\n",
        "plot_confusion_matrix(cm=cm, classes=cm_plot_labels, title=\"Macierz pomyłek\")"
      ],
      "execution_count": null,
      "outputs": [
        {
          "output_type": "stream",
          "text": [
            "              precision    recall  f1-score   support\n",
            "\n",
            "         0.0       0.74      0.87      0.80       429\n",
            "         1.0       0.85      0.70      0.77       438\n",
            "\n",
            "    accuracy                           0.79       867\n",
            "   macro avg       0.79      0.79      0.78       867\n",
            "weighted avg       0.79      0.79      0.78       867\n",
            "\n",
            "0.7854671280276817\n",
            "Confusion matrix without normalization\n",
            "[[374  55]\n",
            " [131 307]]\n"
          ],
          "name": "stdout"
        },
        {
          "output_type": "display_data",
          "data": {
            "image/png": "[encoded data removed]",
            "text/plain": [
              "<Figure size 432x288 with 2 Axes>"
            ]
          },
          "metadata": {
            "tags": [],
            "needs_background": "light"
          }
        }
      ]
    },
    {
      "cell_type": "code",
      "metadata": {
        "id": "xYjeiRsybZTi",
        "colab": {
          "base_uri": "https://localhost:8080/",
          "height": 542
        },
        "outputId": "6157c601-3f09-4ecb-820d-6b3f4ce09060"
      },
      "source": [
        "from sklearn.svm import SVC\n",
        "\n",
        "svc_model = SVC()\n",
        "svc_model.fit(trainSamples_np, trainLabels)\n",
        "\n",
        "predictions = svc_model.predict(testSamples_np)\n",
        "metrics.confusion_matrix(testLabels, predictions)\n",
        "print(metrics.classification_report(testLabels,predictions))\n",
        "print(metrics.accuracy_score(testLabels,predictions))\n",
        "\n",
        "cm = confusion_matrix(y_true = testLabels, y_pred = predictions)\n",
        "plot_confusion_matrix(cm=cm, classes=cm_plot_labels, title=\"Macierz pomyłek\")"
      ],
      "execution_count": null,
      "outputs": [
        {
          "output_type": "stream",
          "text": [
            "              precision    recall  f1-score   support\n",
            "\n",
            "         0.0       0.74      0.88      0.80       429\n",
            "         1.0       0.86      0.69      0.77       438\n",
            "\n",
            "    accuracy                           0.79       867\n",
            "   macro avg       0.80      0.79      0.78       867\n",
            "weighted avg       0.80      0.79      0.78       867\n",
            "\n",
            "0.7854671280276817\n",
            "Confusion matrix without normalization\n",
            "[[378  51]\n",
            " [135 303]]\n"
          ],
          "name": "stdout"
        },
        {
          "output_type": "display_data",
          "data": {
            "image/png": "[encoded data removed]",
            "text/plain": [
              "<Figure size 432x288 with 2 Axes>"
            ]
          },
          "metadata": {
            "tags": [],
            "needs_background": "light"
          }
        }
      ]
    }
  ]
}